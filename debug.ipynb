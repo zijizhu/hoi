{
 "cells": [
  {
   "cell_type": "code",
   "execution_count": 1,
   "metadata": {},
   "outputs": [],
   "source": [
    "import torch\n",
    "from main import HicoDetDataset"
   ]
  },
  {
   "cell_type": "code",
   "execution_count": 2,
   "metadata": {},
   "outputs": [],
   "source": [
    "dataset = HicoDetDataset('hico_20160224_det', 'test')"
   ]
  },
  {
   "cell_type": "code",
   "execution_count": 3,
   "metadata": {},
   "outputs": [
    {
     "name": "stdout",
     "output_type": "stream",
     "text": [
      "600\n"
     ]
    },
    {
     "ename": "IndexError",
     "evalue": "",
     "output_type": "error",
     "traceback": [
      "\u001b[0;31m---------------------------------------------------------------------------\u001b[0m",
      "\u001b[0;31mIndexError\u001b[0m                                Traceback (most recent call last)",
      "File \u001b[0;32m~/Developer/Research/hoi/main.py:67\u001b[0m, in \u001b[0;36mHicoDetDataset.__getitem__\u001b[0;34m(self, idx)\u001b[0m\n\u001b[1;32m     66\u001b[0m \u001b[39mtry\u001b[39;00m:\n\u001b[0;32m---> 67\u001b[0m     label \u001b[39m=\u001b[39m \u001b[39mself\u001b[39;49m\u001b[39m.\u001b[39;49mannotation[\u001b[39m'\u001b[39;49m\u001b[39mlist_action\u001b[39;49m\u001b[39m'\u001b[39;49m][hoi_id][\u001b[39m'\u001b[39m\u001b[39mnname\u001b[39m\u001b[39m'\u001b[39m]\n\u001b[1;32m     68\u001b[0m \u001b[39mexcept\u001b[39;00m:\n",
      "\u001b[0;31mIndexError\u001b[0m: list index out of range",
      "\nDuring handling of the above exception, another exception occurred:\n",
      "\u001b[0;31mIndexError\u001b[0m                                Traceback (most recent call last)",
      "\u001b[1;32m/Users/richardzhu/Developer/Research/hoi/debug.ipynb Cell 3\u001b[0m line \u001b[0;36m2\n\u001b[1;32m      <a href='vscode-notebook-cell:/Users/richardzhu/Developer/Research/hoi/debug.ipynb#W2sZmlsZQ%3D%3D?line=0'>1</a>\u001b[0m \u001b[39mfor\u001b[39;00m i \u001b[39min\u001b[39;00m \u001b[39mrange\u001b[39m(\u001b[39mlen\u001b[39m(dataset)):\n\u001b[0;32m----> <a href='vscode-notebook-cell:/Users/richardzhu/Developer/Research/hoi/debug.ipynb#W2sZmlsZQ%3D%3D?line=1'>2</a>\u001b[0m     a \u001b[39m=\u001b[39m dataset[i]\n",
      "File \u001b[0;32m~/Developer/Research/hoi/main.py:70\u001b[0m, in \u001b[0;36mHicoDetDataset.__getitem__\u001b[0;34m(self, idx)\u001b[0m\n\u001b[1;32m     68\u001b[0m         \u001b[39mexcept\u001b[39;00m:\n\u001b[1;32m     69\u001b[0m             \u001b[39mprint\u001b[39m(hoi_id)\n\u001b[0;32m---> 70\u001b[0m             \u001b[39mraise\u001b[39;00m \u001b[39mIndexError\u001b[39;00m()\n\u001b[1;32m     71\u001b[0m         all_labels\u001b[39m.\u001b[39mappend(label)\n\u001b[1;32m     73\u001b[0m bbox \u001b[39m=\u001b[39m torch\u001b[39m.\u001b[39mtensor(all_bboxes)\u001b[39m.\u001b[39mfloat()\n",
      "\u001b[0;31mIndexError\u001b[0m: "
     ]
    }
   ],
   "source": [
    "for i in range(len(dataset)):\n",
    "    a = dataset[i]"
   ]
  },
  {
   "cell_type": "code",
   "execution_count": 4,
   "metadata": {},
   "outputs": [],
   "source": [
    "import json\n",
    "\n",
    "with open('hico_20160224_det/anno_cleaned.json', 'r') as fp:\n",
    "    hico = json.load(fp=fp)"
   ]
  },
  {
   "cell_type": "code",
   "execution_count": 5,
   "metadata": {},
   "outputs": [
    {
     "data": {
      "text/plain": [
       "['bbox_train',\n",
       " 'bbox_test',\n",
       " 'hoi_train',\n",
       " 'hoi_test',\n",
       " 'list_action',\n",
       " 'num_test_instance_invis_only',\n",
       " 'num_train_instance_invis_only']"
      ]
     },
     "execution_count": 5,
     "metadata": {},
     "output_type": "execute_result"
    }
   ],
   "source": [
    "list(hico.keys())"
   ]
  },
  {
   "cell_type": "code",
   "execution_count": 7,
   "metadata": {},
   "outputs": [
    {
     "data": {
      "text/plain": [
       "600"
      ]
     },
     "execution_count": 7,
     "metadata": {},
     "output_type": "execute_result"
    }
   ],
   "source": [
    "len(hico['list_action'])"
   ]
  },
  {
   "cell_type": "code",
   "execution_count": 13,
   "metadata": {},
   "outputs": [],
   "source": [
    "for instance in hico['bbox_train']:\n",
    "    for hoi in instance['hoi']:\n",
    "        if hoi['id'] == 0:\n",
    "            print(instance)"
   ]
  },
  {
   "cell_type": "code",
   "execution_count": 12,
   "metadata": {},
   "outputs": [
    {
     "data": {
      "text/plain": [
       "{'nname': 'motorcycle', 'vname': 'push'}"
      ]
     },
     "execution_count": 12,
     "metadata": {},
     "output_type": "execute_result"
    }
   ],
   "source": [
    "hico['list_action'][151]"
   ]
  },
  {
   "cell_type": "code",
   "execution_count": null,
   "metadata": {},
   "outputs": [],
   "source": []
  }
 ],
 "metadata": {
  "kernelspec": {
   "display_name": "research",
   "language": "python",
   "name": "python3"
  },
  "language_info": {
   "codemirror_mode": {
    "name": "ipython",
    "version": 3
   },
   "file_extension": ".py",
   "mimetype": "text/x-python",
   "name": "python",
   "nbconvert_exporter": "python",
   "pygments_lexer": "ipython3",
   "version": "3.10.11"
  }
 },
 "nbformat": 4,
 "nbformat_minor": 2
}
