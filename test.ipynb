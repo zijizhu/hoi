{
 "cells": [
  {
   "cell_type": "code",
   "execution_count": 1,
   "metadata": {},
   "outputs": [],
   "source": [
    "import os\n",
    "import json\n",
    "import torch\n",
    "import numpy as np\n",
    "import torchvision\n",
    "import pickle as pkl\n",
    "from pprint import pprint\n",
    "from torchvision import ops\n",
    "import matplotlib.pyplot as plt\n",
    "from PIL import Image, ImageDraw\n",
    "from torch.utils.data import Dataset, DataLoader\n",
    "from meter import DetectionAPMeter, compute_per_class_ap_as_auc"
   ]
  },
  {
   "cell_type": "code",
   "execution_count": 2,
   "metadata": {},
   "outputs": [],
   "source": [
    "with open('save_data.pkl', 'rb') as fp:\n",
    "    save_data = pkl.load(file=fp)"
   ]
  },
  {
   "cell_type": "code",
   "execution_count": 3,
   "metadata": {},
   "outputs": [],
   "source": [
    "all_boxes = []\n",
    "all_labels = []\n",
    "all_scores = []\n",
    "all_tp_masks = []\n",
    "\n",
    "for detection in save_data:\n",
    "    num_dets = len(detection['scores'])\n",
    "    for i in range(num_dets):\n",
    "        all_boxes.append(detection['boxes'][i])\n",
    "        all_labels.append(detection['labels'][i])\n",
    "        all_scores.append(detection['scores'][i])\n",
    "        all_tp_masks.append(detection['binary_labels'][i])\n",
    "\n",
    "all_boxes = torch.stack(all_boxes)\n",
    "all_labels = torch.tensor(all_labels)\n",
    "all_scores = torch.tensor(all_scores, dtype=torch.float64)\n",
    "all_tp_masks = torch.tensor(all_tp_masks)\n",
    "\n",
    "unique_lables = all_labels.unique()"
   ]
  },
  {
   "cell_type": "code",
   "execution_count": 4,
   "metadata": {},
   "outputs": [],
   "source": [
    "with open('hico_20160224_det/test_hico.json') as fp:\n",
    "    train_val = json.load(fp=fp)\n",
    "\n",
    "label_map = {i.item(): j for i, j in zip(unique_lables, list(range(len(unique_lables))))}\n",
    "label_map_vec = np.vectorize(label_map.get)\n",
    "\n",
    "num_gt = torch.zeros(80, dtype=int)\n",
    "for ann in train_val:\n",
    "    box_anns = ann['annotations']\n",
    "    for box in box_anns:\n",
    "        gt_label = box['category_id']\n",
    "        gt_label_mapped = label_map[gt_label]\n",
    "        num_gt[gt_label_mapped] += 1"
   ]
  },
  {
   "cell_type": "code",
   "execution_count": 5,
   "metadata": {},
   "outputs": [
    {
     "name": "stdout",
     "output_type": "stream",
     "text": [
      "{1: 0,\n",
      " 2: 1,\n",
      " 3: 2,\n",
      " 4: 3,\n",
      " 5: 4,\n",
      " 6: 5,\n",
      " 7: 6,\n",
      " 8: 7,\n",
      " 9: 8,\n",
      " 10: 9,\n",
      " 11: 10,\n",
      " 13: 11,\n",
      " 14: 12,\n",
      " 15: 13,\n",
      " 16: 14,\n",
      " 17: 15,\n",
      " 18: 16,\n",
      " 19: 17,\n",
      " 20: 18,\n",
      " 21: 19,\n",
      " 22: 20,\n",
      " 23: 21,\n",
      " 24: 22,\n",
      " 25: 23,\n",
      " 27: 24,\n",
      " 28: 25,\n",
      " 31: 26,\n",
      " 32: 27,\n",
      " 33: 28,\n",
      " 34: 29,\n",
      " 35: 30,\n",
      " 36: 31,\n",
      " 37: 32,\n",
      " 38: 33,\n",
      " 39: 34,\n",
      " 40: 35,\n",
      " 41: 36,\n",
      " 42: 37,\n",
      " 43: 38,\n",
      " 44: 39,\n",
      " 46: 40,\n",
      " 47: 41,\n",
      " 48: 42,\n",
      " 49: 43,\n",
      " 50: 44,\n",
      " 51: 45,\n",
      " 52: 46,\n",
      " 53: 47,\n",
      " 54: 48,\n",
      " 55: 49,\n",
      " 56: 50,\n",
      " 57: 51,\n",
      " 58: 52,\n",
      " 59: 53,\n",
      " 60: 54,\n",
      " 61: 55,\n",
      " 62: 56,\n",
      " 63: 57,\n",
      " 64: 58,\n",
      " 65: 59,\n",
      " 67: 60,\n",
      " 70: 61,\n",
      " 72: 62,\n",
      " 73: 63,\n",
      " 74: 64,\n",
      " 75: 65,\n",
      " 76: 66,\n",
      " 77: 67,\n",
      " 78: 68,\n",
      " 79: 69,\n",
      " 80: 70,\n",
      " 81: 71,\n",
      " 82: 72,\n",
      " 84: 73,\n",
      " 85: 74,\n",
      " 86: 75,\n",
      " 87: 76,\n",
      " 88: 77,\n",
      " 89: 78,\n",
      " 90: 79}\n"
     ]
    }
   ],
   "source": [
    "pprint(label_map)"
   ]
  },
  {
   "cell_type": "code",
   "execution_count": 28,
   "metadata": {},
   "outputs": [],
   "source": [
    "def auc(precision, recall: torch.Tensor):\n",
    "    ap = torch.tensor(0, dtype=torch.float64)\n",
    "    max_rec = recall[-1]\n",
    "    for i in range(recall.numel()):\n",
    "        if recall[i] >= max_rec:\n",
    "            break\n",
    "        if recall[i] - recall[i - 1] == 0:\n",
    "            continue\n",
    "        if i == 0:\n",
    "            ap += precision[i] * recall[i]\n",
    "        else:\n",
    "            ap += 0.5 * (precision[i] + precision[i - 1]) * (recall[i] - recall[i - 1])\n",
    "    return ap"
   ]
  },
  {
   "cell_type": "code",
   "execution_count": 29,
   "metadata": {},
   "outputs": [
    {
     "name": "stdout",
     "output_type": "stream",
     "text": [
      "tensor([0.3635, 0.2763, 0.1595, 0.2645, 0.4005, 0.4064, 0.4683, 0.3123, 0.2414,\n",
      "        0.0088, 0.5267, 0.0862, 0.1576, 0.3932, 0.2055, 0.2816, 0.2840, 0.3419,\n",
      "        0.3127, 0.3578, 0.4403, 0.2159, 0.4104, 0.5977, 0.1134, 0.2907, 0.0421,\n",
      "        0.2199, 0.2082, 0.3536, 0.1855, 0.2196, 0.2562, 0.2508, 0.2590, 0.1134,\n",
      "        0.3568, 0.3619, 0.2733, 0.0750, 0.1360, 0.0264, 0.0258, 0.0473, 0.0466,\n",
      "        0.0207, 0.1480, 0.2098, 0.2023, 0.1372, 0.2047, 0.0977, 0.1373, 0.3205,\n",
      "        0.2326, 0.4069, 0.0393, 0.3620, 0.0597, 0.4921, 0.1714, 0.5164, 0.1255,\n",
      "        0.3487, 0.1293, 0.1063, 0.2206, 0.1164, 0.1535, 0.0546, 0.1304, 0.0360,\n",
      "        0.2004, 0.1092, 0.1482, 0.1537, 0.1302, 0.4048, 0.2068, 0.3328],\n",
      "       dtype=torch.float64)\n"
     ]
    },
    {
     "data": {
      "text/plain": [
       "tensor(0.2280, dtype=torch.float64)"
      ]
     },
     "execution_count": 29,
     "metadata": {},
     "output_type": "execute_result"
    }
   ],
   "source": [
    "ap_list = []\n",
    "precs, recalls = [], []\n",
    "\n",
    "for i, label in enumerate(unique_lables):\n",
    "    label_mask = all_labels == label\n",
    "    \n",
    "    boxes = all_boxes[label_mask]\n",
    "    scores = all_scores[label_mask]\n",
    "    tp_masks = all_tp_masks[label_mask]\n",
    "\n",
    "    sort_idx = scores.argsort(descending=True)\n",
    "\n",
    "    boxes_sorted = boxes[sort_idx]\n",
    "    scores_sorted = scores[sort_idx]\n",
    "    tp_masks_sorted = tp_masks[sort_idx]\n",
    "\n",
    "    total_tp = tp_masks_sorted.sum()\n",
    "    fp = 1 - tp_masks_sorted\n",
    "\n",
    "    # precision = tp_masks_sorted.cumsum(0) / (tp_masks_sorted.cumsum(0) + fp.cumsum(0))\n",
    "    precision = (tp_masks_sorted.cumsum(0).to(torch.float64) / torch.ones(len(tp_masks_sorted)).cumsum(0).to(torch.float64)).to(torch.float64)\n",
    "    recall = (tp_masks_sorted.cumsum(0).to(torch.float64) / num_gt[i]).to(torch.float64)\n",
    "    # print(precision.dtype)\n",
    "    precs.append(precision)\n",
    "    recalls.append(recall)\n",
    "\n",
    "    ap = auc(precision, recall)\n",
    "    ap_list.append(ap)\n",
    "\n",
    "aps = torch.tensor(ap_list)\n",
    "print(aps)\n",
    "aps.mean()"
   ]
  },
  {
   "cell_type": "code",
   "execution_count": 27,
   "metadata": {},
   "outputs": [
    {
     "name": "stdout",
     "output_type": "stream",
     "text": [
      "tensor([0.3635, 0.2763, 0.1595, 0.2645, 0.4005, 0.4064, 0.4683, 0.3123, 0.2414,\n",
      "        0.0088, 0.5267, 0.0862, 0.1576, 0.3932, 0.2055, 0.2816, 0.2840, 0.3419,\n",
      "        0.3127, 0.3578, 0.4403, 0.2159, 0.4104, 0.5977, 0.1134, 0.2907, 0.0421,\n",
      "        0.2199, 0.2082, 0.3536, 0.1855, 0.2196, 0.2562, 0.2508, 0.2590, 0.1134,\n",
      "        0.3568, 0.3619, 0.2733, 0.0750, 0.1360, 0.0264, 0.0258, 0.0473, 0.0466,\n",
      "        0.0207, 0.1480, 0.2098, 0.2023, 0.1372, 0.2047, 0.0977, 0.1373, 0.3205,\n",
      "        0.2326, 0.4069, 0.0393, 0.3620, 0.0597, 0.4921, 0.1714, 0.5164, 0.1255,\n",
      "        0.3487, 0.1293, 0.1063, 0.2206, 0.1164, 0.1535, 0.0546, 0.1304, 0.0360,\n",
      "        0.2004, 0.1092, 0.1482, 0.1537, 0.1302, 0.4048, 0.2068, 0.3328],\n",
      "       dtype=torch.float64)\n"
     ]
    },
    {
     "data": {
      "text/plain": [
       "tensor(0.2280, dtype=torch.float64)"
      ]
     },
     "execution_count": 27,
     "metadata": {},
     "output_type": "execute_result"
    }
   ],
   "source": [
    "ap_list = []\n",
    "precs, recalls = [], []\n",
    "\n",
    "for i, label in enumerate(unique_lables):\n",
    "    label_mask = all_labels == label\n",
    "    \n",
    "    boxes = all_boxes[label_mask]\n",
    "    scores = all_scores[label_mask]\n",
    "    tp_masks = all_tp_masks[label_mask]\n",
    "\n",
    "    sort_idx = scores.argsort(descending=True)\n",
    "\n",
    "    boxes_sorted = boxes[sort_idx]\n",
    "    scores_sorted = scores[sort_idx]\n",
    "    tp_masks_sorted = tp_masks[sort_idx]\n",
    "\n",
    "    total_tp = tp_masks_sorted.sum()\n",
    "    fp = 1 - tp_masks_sorted\n",
    "\n",
    "    # precision = tp_masks_sorted.cumsum(0) / (tp_masks_sorted.cumsum(0) + fp.cumsum(0))\n",
    "    precision = (tp_masks_sorted.cumsum(0).to(torch.float64) / torch.ones(len(tp_masks_sorted)).cumsum(0).to(torch.float64)).to(torch.float64)\n",
    "    recall = (tp_masks_sorted.cumsum(0).to(torch.float64) / num_gt[i]).to(torch.float64)\n",
    "    # print(precision.dtype)\n",
    "    precs.append(precision)\n",
    "    recalls.append(recall)\n",
    "\n",
    "    ap = compute_per_class_ap_as_auc((precision, recall))\n",
    "    ap_list.append(ap)\n",
    "\n",
    "aps = torch.tensor(ap_list)\n",
    "print(aps)\n",
    "aps.mean()"
   ]
  },
  {
   "cell_type": "code",
   "execution_count": 7,
   "metadata": {},
   "outputs": [
    {
     "name": "stdout",
     "output_type": "stream",
     "text": [
      "tensor([0.3635, 0.2763, 0.1595, 0.2645, 0.4005, 0.4064, 0.4683, 0.3123, 0.2414,\n",
      "        0.0088, 0.5267, 0.0862, 0.1576, 0.3932, 0.2055, 0.2816, 0.2840, 0.3419,\n",
      "        0.3127, 0.3578, 0.4403, 0.2159, 0.4104, 0.5977, 0.1134, 0.2907, 0.0421,\n",
      "        0.2199, 0.2082, 0.3536, 0.1855, 0.2196, 0.2562, 0.2508, 0.2590, 0.1134,\n",
      "        0.3568, 0.3619, 0.2733, 0.0750, 0.1360, 0.0264, 0.0258, 0.0473, 0.0466,\n",
      "        0.0207, 0.1480, 0.2098, 0.2023, 0.1372, 0.2047, 0.0977, 0.1373, 0.3205,\n",
      "        0.2326, 0.4069, 0.0393, 0.3620, 0.0597, 0.4921, 0.1714, 0.5164, 0.1255,\n",
      "        0.3487, 0.1293, 0.1063, 0.2206, 0.1164, 0.1535, 0.0546, 0.1304, 0.0360,\n",
      "        0.2004, 0.1092, 0.1482, 0.1537, 0.1302, 0.4048, 0.2068, 0.3328],\n",
      "       dtype=torch.float64)\n",
      "0.2280052756898808\n"
     ]
    }
   ],
   "source": [
    "meter = DetectionAPMeter(80, algorithm='AUC', nproc=1)\n",
    "for detection in save_data:\n",
    "    if len(detection['labels']) != 0:\n",
    "        mapped = torch.tensor(label_map_vec(detection['labels']))\n",
    "    else:\n",
    "        mapped = detection['labels']\n",
    "    meter.append(detection['scores'], mapped, detection['binary_labels'])\n",
    "\n",
    "meter.num_gt = num_gt.tolist()\n",
    "ap, precs_alg, recalls_alg = meter.eval()\n",
    "\n",
    "print(ap)\n",
    "print(ap.mean().item())"
   ]
  },
  {
   "cell_type": "code",
   "execution_count": 8,
   "metadata": {},
   "outputs": [
    {
     "data": {
      "text/plain": [
       "80"
      ]
     },
     "execution_count": 8,
     "metadata": {},
     "output_type": "execute_result"
    }
   ],
   "source": [
    "len(precs_alg)"
   ]
  },
  {
   "cell_type": "code",
   "execution_count": 37,
   "metadata": {},
   "outputs": [
    {
     "data": {
      "text/plain": [
       "tensor([False, False, False, False, False, False, False, False, False, False,\n",
       "        False, False, False, False, False, False, False, False, False, False,\n",
       "        False, False, False, False, False, False, False, False, False, False,\n",
       "        False, False, False, False, False, False, False, False, False, False,\n",
       "        False, False, False, False, False, False, False, False, False, False,\n",
       "        False, False, False, False, False, False, False, False, False, False,\n",
       "        False, False, False, False, False, False, False, False, False, False,\n",
       "        False, False, False, False, False, False, False, False, False, False,\n",
       "        False, False, False, False, False, False, False, False, False, False,\n",
       "        False, False, False, False, False, False, False, False, False, False,\n",
       "        False, False, False, False, False, False, False, False, False, False,\n",
       "        False, False, False, False,  True,  True,  True,  True,  True,  True,\n",
       "         True,  True,  True,  True,  True,  True,  True])"
      ]
     },
     "execution_count": 37,
     "metadata": {},
     "output_type": "execute_result"
    }
   ],
   "source": [
    "recalls_alg[50] == recalls_alg[50].max()"
   ]
  },
  {
   "cell_type": "code",
   "execution_count": 40,
   "metadata": {},
   "outputs": [
    {
     "data": {
      "text/plain": [
       "tensor([0.0145, 0.0290, 0.0435, 0.0580, 0.0580, 0.0580, 0.0580, 0.0725, 0.0870,\n",
       "        0.1014, 0.1159, 0.1304, 0.1449, 0.1594, 0.1594, 0.1594, 0.1594, 0.1594,\n",
       "        0.1594, 0.1594, 0.1594, 0.1739, 0.1739, 0.1739, 0.1739, 0.1739, 0.1739,\n",
       "        0.1884, 0.1884, 0.1884, 0.1884, 0.1884, 0.2029, 0.2029, 0.2029, 0.2029,\n",
       "        0.2029, 0.2029, 0.2174, 0.2174, 0.2174, 0.2174, 0.2319, 0.2319, 0.2319,\n",
       "        0.2319, 0.2319, 0.2319, 0.2319, 0.2319, 0.2319, 0.2319, 0.2464, 0.2609,\n",
       "        0.2609, 0.2754, 0.2754, 0.2899, 0.3043, 0.3043, 0.3043, 0.3043, 0.3043,\n",
       "        0.3043, 0.3043, 0.3188, 0.3188, 0.3188, 0.3188, 0.3188, 0.3188, 0.3188,\n",
       "        0.3188, 0.3188, 0.3188, 0.3188, 0.3333, 0.3333, 0.3333, 0.3333, 0.3333,\n",
       "        0.3478, 0.3478, 0.3478, 0.3478, 0.3478, 0.3478, 0.3478, 0.3478, 0.3478,\n",
       "        0.3478, 0.3478, 0.3478, 0.3478, 0.3478, 0.3478, 0.3478, 0.3478, 0.3478,\n",
       "        0.3478, 0.3478, 0.3623, 0.3768, 0.3768, 0.3768, 0.3768, 0.3768, 0.3768,\n",
       "        0.3768, 0.3768, 0.3768, 0.3768, 0.3768, 0.3768, 0.3913, 0.3913, 0.3913,\n",
       "        0.3913, 0.3913, 0.3913, 0.3913, 0.3913, 0.3913, 0.3913, 0.3913, 0.3913,\n",
       "        0.3913], dtype=torch.float64)"
      ]
     },
     "execution_count": 40,
     "metadata": {},
     "output_type": "execute_result"
    }
   ],
   "source": [
    "recalls_alg[50]"
   ]
  },
  {
   "cell_type": "code",
   "execution_count": 39,
   "metadata": {},
   "outputs": [
    {
     "data": {
      "text/plain": [
       "tensor([1.0000, 1.0000, 1.0000, 1.0000, 0.8000, 0.6667, 0.5714, 0.6250, 0.6667,\n",
       "        0.7000, 0.7273, 0.7500, 0.7692, 0.7857, 0.7333, 0.6875, 0.6471, 0.6111,\n",
       "        0.5789, 0.5500, 0.5238, 0.5455, 0.5217, 0.5000, 0.4800, 0.4615, 0.4444,\n",
       "        0.4643, 0.4483, 0.4333, 0.4194, 0.4062, 0.4242, 0.4118, 0.4000, 0.3889,\n",
       "        0.3784, 0.3684, 0.3846, 0.3750, 0.3659, 0.3571, 0.3721, 0.3636, 0.3556,\n",
       "        0.3478, 0.3404, 0.3333, 0.3265, 0.3200, 0.3137, 0.3077, 0.3208, 0.3333,\n",
       "        0.3273, 0.3393, 0.3333, 0.3448, 0.3559, 0.3500, 0.3443, 0.3387, 0.3333,\n",
       "        0.3281, 0.3231, 0.3333, 0.3284, 0.3235, 0.3188, 0.3143, 0.3099, 0.3056,\n",
       "        0.3014, 0.2973, 0.2933, 0.2895, 0.2987, 0.2949, 0.2911, 0.2875, 0.2840,\n",
       "        0.2927, 0.2892, 0.2857, 0.2824, 0.2791, 0.2759, 0.2727, 0.2697, 0.2667,\n",
       "        0.2637, 0.2609, 0.2581, 0.2553, 0.2526, 0.2500, 0.2474, 0.2449, 0.2424,\n",
       "        0.2400, 0.2376, 0.2451, 0.2524, 0.2500, 0.2476, 0.2453, 0.2430, 0.2407,\n",
       "        0.2385, 0.2364, 0.2342, 0.2321, 0.2301, 0.2281, 0.2348, 0.2328, 0.2308,\n",
       "        0.2288, 0.2269, 0.2250, 0.2231, 0.2213, 0.2195, 0.2177, 0.2160, 0.2143,\n",
       "        0.2126], dtype=torch.float64)"
      ]
     },
     "execution_count": 39,
     "metadata": {},
     "output_type": "execute_result"
    }
   ],
   "source": [
    "precs_alg[50]"
   ]
  },
  {
   "cell_type": "code",
   "execution_count": null,
   "metadata": {},
   "outputs": [],
   "source": []
  }
 ],
 "metadata": {
  "kernelspec": {
   "display_name": "logichoi",
   "language": "python",
   "name": "python3"
  },
  "language_info": {
   "codemirror_mode": {
    "name": "ipython",
    "version": 3
   },
   "file_extension": ".py",
   "mimetype": "text/x-python",
   "name": "python",
   "nbconvert_exporter": "python",
   "pygments_lexer": "ipython3",
   "version": "3.11.7"
  }
 },
 "nbformat": 4,
 "nbformat_minor": 2
}
